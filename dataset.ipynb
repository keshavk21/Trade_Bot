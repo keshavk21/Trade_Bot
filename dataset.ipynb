{
 "cells": [
  {
   "cell_type": "code",
   "execution_count": 1,
   "id": "15f13097",
   "metadata": {},
   "outputs": [],
   "source": [
    "import os\n",
    "import glob\n",
    "import matplotlib.pyplot as plt\n",
    "import random\n",
    "from datasets import Dataset\n",
    "from dotenv import load_dotenv\n",
    "from huggingface_hub import login\n",
    "import transformers\n",
    "from transformers import AutoTokenizer"
   ]
  },
  {
   "cell_type": "code",
   "execution_count": null,
   "id": "1fbddea3",
   "metadata": {},
   "outputs": [
    {
     "name": "stdout",
     "output_type": "stream",
     "text": [
      "HuggingFace Token looks good so far\n"
     ]
    }
   ],
   "source": [
    "from datasets import load_dataset, Dataset\n",
    "load_dotenv()\n",
    "hf_token = os.getenv('HF_TOKEN')\n",
    "    "
   ]
  },
  {
   "cell_type": "code",
   "execution_count": 3,
   "id": "5c878682",
   "metadata": {},
   "outputs": [],
   "source": [
    "DATASET_NAME = \"trade_code_data\"\n",
    "BASE_MODEL = \"Qwen/CodeQwen1.5-7B\""
   ]
  },
  {
   "cell_type": "code",
   "execution_count": 4,
   "id": "a609f166",
   "metadata": {},
   "outputs": [],
   "source": [
    "def extract_method_bodies(text):\n",
    "    chunks = text.split('def trade')[1:]\n",
    "    results = []\n",
    "    for chunk in chunks:\n",
    "        lines = chunk.split('\\n')[1:]\n",
    "        body = '\\n'.join(line for line in lines if line!='\\n')\n",
    "        results.append(body)\n",
    "    return results "
   ]
  },
  {
   "cell_type": "code",
   "execution_count": 5,
   "id": "2077eb7b",
   "metadata": {},
   "outputs": [
    {
     "name": "stdout",
     "output_type": "stream",
     "text": [
      "Extracted 70 trade method bodies\n"
     ]
    }
   ],
   "source": [
    "bodies = []\n",
    "for filename in glob.glob(\"*.py\"):\n",
    "    with open(filename, 'r', encoding='utf-8') as file:\n",
    "        content = file.read()\n",
    "        extracted = extract_method_bodies(content)\n",
    "        bodies += extracted\n",
    "\n",
    "print(f\"Extracted {len(bodies)} trade method bodies\")"
   ]
  },
  {
   "cell_type": "code",
   "execution_count": 6,
   "id": "16e43e69",
   "metadata": {},
   "outputs": [
    {
     "name": "stdout",
     "output_type": "stream",
     "text": [
      "    # Buy if the current price is higher than the average of the last 20 days\n",
      "    trades = []\n",
      "    for ticker in tickers:\n",
      "        if prices[ticker][0] > np.mean(prices[ticker][1:21]):\n",
      "            quantity = random.randrange(1, 100)\n",
      "            trades.append(Trade(ticker, quantity))\n",
      "    return trades\n",
      "\n",
      "\n"
     ]
    }
   ],
   "source": [
    "\n",
    "print(random.choice(bodies))"
   ]
  },
  {
   "cell_type": "code",
   "execution_count": 7,
   "id": "82d60974",
   "metadata": {},
   "outputs": [
    {
     "data": {
      "image/png": "[encoded data removed]",
      "text/plain": [
       "<Figure size 640x480 with 1 Axes>"
      ]
     },
     "metadata": {},
     "output_type": "display_data"
    }
   ],
   "source": [
    "%matplotlib inline\n",
    "fig, ax = plt.subplots(1, 1)\n",
    "lengths = [len(body.split('\\n')) for body in bodies]\n",
    "ax.set_xlabel('Lines of code')\n",
    "ax.set_ylabel('Count of training samples');\n",
    "_ = ax.hist(lengths, rwidth=0.7, color=\"green\", bins=range(0, max(lengths)))"
   ]
  },
  {
   "cell_type": "code",
   "execution_count": 8,
   "id": "47b39fb7",
   "metadata": {},
   "outputs": [
    {
     "name": "stdout",
     "output_type": "stream",
     "text": [
      "\n",
      "# tickers is a list of stock tickers\n",
      "import tickers\n",
      "\n",
      "# prices is a dict; the key is a ticker and the value is a list of historic prices, today first\n",
      "import prices\n",
      "\n",
      "# Trade represents a decision to buy or sell a quantity of a ticker\n",
      "import Trade\n",
      "\n",
      "import random\n",
      "import numpy as np\n",
      "\n",
      "def trade():\n",
      "    # Sell if the current price is lower than the lower Keltner Channel\n",
      "    trades = []\n",
      "    for ticker in tickers:\n",
      "        ema = prices[ticker][0]\n",
      "        multiplier = 2 / (20 + 1)\n",
      "        for i in range(1, 20):\n",
      "            ema = (prices[ticker][i] - ema) * multiplier + ema\n",
      "        atr = np.mean([np.max(prices[ticker][i:i+10]) - np.min(prices[ticker][i:i+10]) for i in range(10)])\n",
      "        lower_channel = ema - 2 * atr\n",
      "        if prices[ticker][0] < lower_channel:\n",
      "            quantity = random.randrange(-100, -1)\n",
      "            trades.append(Trade(ticker, quantity))\n",
      "    return trades\n",
      "\n",
      "\n"
     ]
    }
   ],
   "source": [
    "prompt = \"\"\"\n",
    "# tickers is a list of stock tickers\n",
    "import tickers\n",
    "\n",
    "# prices is a dict; the key is a ticker and the value is a list of historic prices, today first\n",
    "import prices\n",
    "\n",
    "# Trade represents a decision to buy or sell a quantity of a ticker\n",
    "import Trade\n",
    "\n",
    "import random\n",
    "import numpy as np\n",
    "\n",
    "def trade():\n",
    "\"\"\"\n",
    "\n",
    "data = [prompt + body for body in bodies]\n",
    "print(random.choice(data))"
   ]
  },
  {
   "cell_type": "code",
   "execution_count": 9,
   "id": "4d6c1a12",
   "metadata": {},
   "outputs": [
    {
     "data": {
      "image/png": "[encoded data removed]",
      "text/plain": [
       "<Figure size 640x480 with 1 Axes>"
      ]
     },
     "metadata": {},
     "output_type": "display_data"
    }
   ],
   "source": [
    "tokenizer = AutoTokenizer.from_pretrained(BASE_MODEL, trust_remote_code=True)\n",
    "tokenized_data = [tokenizer.encode(each) for each in data]\n",
    "token_counts = [len(tokens) for tokens in tokenized_data]\n",
    "\n",
    "%matplotlib inline\n",
    "fig, ax = plt.subplots(1, 1)\n",
    "ax.set_xlabel('Number of tokens')\n",
    "ax.set_ylabel('Count of training samples');\n",
    "_ = ax.hist(token_counts, rwidth=0.7, color=\"purple\", bins=range(0, max(token_counts), 20))"
   ]
  },
  {
   "cell_type": "code",
   "execution_count": 10,
   "id": "576272a2",
   "metadata": {},
   "outputs": [
    {
     "name": "stdout",
     "output_type": "stream",
     "text": [
      "With cutoff at 320, we truncate 1 datapoints which is 1.4% of the dataset\n"
     ]
    }
   ],
   "source": [
    "CUTOFF = 320\n",
    "truncated = len([tokens for tokens in tokenized_data if len(tokens) > CUTOFF])\n",
    "percentage = truncated/len(tokenized_data)*100\n",
    "print(f\"With cutoff at {CUTOFF}, we truncate {truncated} datapoints which is {percentage:.1f}% of the dataset\")"
   ]
  },
  {
   "cell_type": "code",
   "execution_count": 11,
   "id": "ea08afd0",
   "metadata": {},
   "outputs": [
    {
     "name": "stdout",
     "output_type": "stream",
     "text": [
      "After now have 69 datapoints\n"
     ]
    }
   ],
   "source": [
    "filtered_data = [datapoint for datapoint in data if len(tokenizer.encode(datapoint))<=CUTOFF]\n",
    "print(f\"After now have {len(filtered_data)} datapoints\")"
   ]
  },
  {
   "cell_type": "code",
   "execution_count": 12,
   "id": "f39072de",
   "metadata": {},
   "outputs": [],
   "source": [
    "random.seed(42)\n",
    "random.shuffle(filtered_data)"
   ]
  },
  {
   "cell_type": "code",
   "execution_count": 13,
   "id": "b98ea8ca",
   "metadata": {},
   "outputs": [],
   "source": [
    "dataset = Dataset.from_dict({'text':filtered_data})"
   ]
  },
  {
   "cell_type": "code",
   "execution_count": 14,
   "id": "f4a31f71",
   "metadata": {},
   "outputs": [
    {
     "name": "stderr",
     "output_type": "stream",
     "text": [
      "Note: Environment variable`HF_TOKEN` is set and is the current active token independently from the token you've just configured.\n"
     ]
    }
   ],
   "source": [
    "login(hf_token)"
   ]
  },
  {
   "cell_type": "code",
   "execution_count": 15,
   "id": "47fa8496",
   "metadata": {},
   "outputs": [
    {
     "data": {
      "application/vnd.jupyter.widget-view+json": {
       "model_id": "97af043ac984425281bd037aa71af32f",
       "version_major": 2,
       "version_minor": 0
      },
      "text/plain": [
       "Uploading the dataset shards:   0%|          | 0/1 [00:00<?, ?it/s]"
      ]
     },
     "metadata": {},
     "output_type": "display_data"
    },
    {
     "data": {
      "application/vnd.jupyter.widget-view+json": {
       "model_id": "d3a1f7f5d4fe4ef588d13975591380db",
       "version_major": 2,
       "version_minor": 0
      },
      "text/plain": [
       "Creating parquet from Arrow format:   0%|          | 0/1 [00:00<?, ?ba/s]"
      ]
     },
     "metadata": {},
     "output_type": "display_data"
    },
    {
     "data": {
      "text/plain": [
       "CommitInfo(commit_url='https://huggingface.co/datasets/kesavk21/trade_code_data/commit/2ef0ec8797243f452e0b2ab495e8455be67bce32', commit_message='Upload dataset', commit_description='', oid='2ef0ec8797243f452e0b2ab495e8455be67bce32', pr_url=None, repo_url=RepoUrl('https://huggingface.co/datasets/kesavk21/trade_code_data', endpoint='https://huggingface.co', repo_type='dataset', repo_id='kesavk21/trade_code_data'), pr_revision=None, pr_num=None)"
      ]
     },
     "execution_count": 15,
     "metadata": {},
     "output_type": "execute_result"
    }
   ],
   "source": [
    "dataset.push_to_hub(DATASET_NAME, private=True)"
   ]
  },
  {
   "cell_type": "code",
   "execution_count": null,
   "id": "cdb12fe5",
   "metadata": {},
   "outputs": [],
   "source": []
  }
 ],
 "metadata": {
  "kernelspec": {
   "display_name": "llms",
   "language": "python",
   "name": "python3"
  },
  "language_info": {
   "codemirror_mode": {
    "name": "ipython",
    "version": 3
   },
   "file_extension": ".py",
   "mimetype": "text/x-python",
   "name": "python",
   "nbconvert_exporter": "python",
   "pygments_lexer": "ipython3",
   "version": "3.11.11"
  }
 },
 "nbformat": 4,
 "nbformat_minor": 5
}
